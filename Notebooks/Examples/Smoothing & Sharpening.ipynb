{
 "cells": [
  {
   "cell_type": "markdown",
   "metadata": {},
   "source": [
    "# Smoothing & Sharpening Demonstration"
   ]
  },
  {
   "cell_type": "markdown",
   "metadata": {},
   "source": [
    "## Boilerplate Code"
   ]
  },
  {
   "cell_type": "code",
   "execution_count": 1,
   "metadata": {},
   "outputs": [
    {
     "name": "stdout",
     "output_type": "stream",
     "text": [
      "Demo Ready.\n"
     ]
    }
   ],
   "source": [
    "import os, sys\n",
    "sys.path.append(os.getcwd())\n",
    "sys.path.append(os.getcwd() + '/..')\n",
    "sys.path.append(os.getcwd() + '/../..')\n",
    "sys.path.append(os.getcwd() + '/../lib')\n",
    "sys.path.append(os.getcwd() + '/../../lib')\n",
    "\n",
    "from vedo import *\n",
    "Plotter(backend=\"k3d\")\n",
    "\n",
    "from lib.mesh_util import load_triangular_mesh, present_mesh\n",
    "from lib.laplacian_operations import *\n",
    "from lib.laplacian_beltrami import LaplaceBeltramiWeighting\n",
    "from vedo import *\n",
    "from trimesh import Trimesh\n",
    "import numpy as np\n",
    "from scipy import sparse\n",
    "\n",
    "print('Demo Ready.')"
   ]
  },
  {
   "cell_type": "markdown",
   "metadata": {},
   "source": [
    "## Available Meshes"
   ]
  },
  {
   "cell_type": "code",
   "execution_count": 2,
   "metadata": {},
   "outputs": [],
   "source": [
    "root_dir = f\"{os.getcwd()}/../..\"\n",
    "OLAF = f\"{root_dir}/models/olafdidofranza/File/OBj/Studio Pose OLAF.obj\"\n",
    "BATMAN = f\"{root_dir}/models/batman/batman.obj\"\n",
    "TEAPOT = f\"{root_dir}/models/teapot/teapot.obj\"\n",
    "DEER = f\"{root_dir}/models/lowpolydeer/deer.obj\"\n",
    "HUMAN = f\"{root_dir}/models/human/sculpt.obj\"\n",
    "OGRE = f\"{root_dir}/models/ogre/OgreOBJ.obj\"\n",
    "GOOFY_GORGON = f\"{root_dir}/models/gorgon/17902_Goofy_Gorgon_V1.obj\"\n",
    "LIBRARIAN = f\"{root_dir}/models/librarian/Librarian.obj\"\n",
    "\n",
    "\n",
    "mesh_path = DEER"
   ]
  },
  {
   "cell_type": "markdown",
   "metadata": {},
   "source": [
    "## Default Mesh"
   ]
  },
  {
   "cell_type": "code",
   "execution_count": 3,
   "metadata": {},
   "outputs": [
    {
     "data": {
      "application/vnd.jupyter.widget-view+json": {
       "model_id": "d678bddadf5846ca915bc9fc41a3ccfe",
       "version_major": 2,
       "version_minor": 0
      },
      "text/plain": [
       "Plot(antialias=3, axes=['x', 'y', 'z'], axes_helper=1.0, background_color=16777215, camera=[-26.51528266097211…"
      ]
     },
     "metadata": {},
     "output_type": "display_data"
    }
   ],
   "source": [
    "Plotter(backend=\"k3d\")\n",
    "mesh = load_triangular_mesh(mesh_path, keep_only_largest_component=False)\n",
    "show(mesh)"
   ]
  },
  {
   "cell_type": "markdown",
   "metadata": {},
   "source": [
    "## Smoothing Operations"
   ]
  },
  {
   "cell_type": "markdown",
   "metadata": {},
   "source": [
    "### Smoothing with \"umbrella\" weighting"
   ]
  },
  {
   "cell_type": "code",
   "execution_count": 4,
   "metadata": {},
   "outputs": [
    {
     "data": {
      "application/vnd.jupyter.widget-view+json": {
       "model_id": "7e954f26ff3d4b82b052f06f68fc4afb",
       "version_major": 2,
       "version_minor": 0
      },
      "text/plain": [
       "Plot(antialias=3, axes=['x', 'y', 'z'], axes_helper=1.0, background_color=16777215, camera=[-20.5329906818121,…"
      ]
     },
     "metadata": {},
     "output_type": "display_data"
    }
   ],
   "source": [
    "Plotter(backend=\"k3d\")\n",
    "mesh = load_triangular_mesh(mesh_path, keep_only_largest_component=False)\n",
    "laplacian_smoothing(mesh, smooth_factor=0.8, iterations=1, weighting_scheme=LaplaceBeltramiWeighting.UMBRELLA)\n",
    "show(mesh)"
   ]
  },
  {
   "cell_type": "markdown",
   "metadata": {},
   "source": [
    "### Smoothing with \"cotangent\" weighting (no area normalization)"
   ]
  },
  {
   "cell_type": "code",
   "execution_count": 5,
   "metadata": {
    "scrolled": true
   },
   "outputs": [
    {
     "data": {
      "application/vnd.jupyter.widget-view+json": {
       "model_id": "5e38f8d42c634f869c7b36f971cc8975",
       "version_major": 2,
       "version_minor": 0
      },
      "text/plain": [
       "Plot(antialias=3, axes=['x', 'y', 'z'], axes_helper=1.0, background_color=16777215, camera=[-21.78104699312918…"
      ]
     },
     "metadata": {},
     "output_type": "display_data"
    }
   ],
   "source": [
    "Plotter(backend=\"k3d\")\n",
    "mesh = load_triangular_mesh(mesh_path, keep_only_largest_component=False)\n",
    "laplacian_smoothing(mesh, smooth_factor=0.8, iterations=1, weighting_scheme=LaplaceBeltramiWeighting.COTANGENT_NO_AREA)\n",
    "show(mesh)"
   ]
  },
  {
   "cell_type": "markdown",
   "metadata": {},
   "source": [
    "### Smoothing with \"cotangent\" weighting (voronoi cell area normalization)"
   ]
  },
  {
   "cell_type": "code",
   "execution_count": 6,
   "metadata": {},
   "outputs": [
    {
     "data": {
      "application/vnd.jupyter.widget-view+json": {
       "model_id": "4e5d04fdc4b843feb14591bef4086c08",
       "version_major": 2,
       "version_minor": 0
      },
      "text/plain": [
       "Plot(antialias=3, axes=['x', 'y', 'z'], axes_helper=1.0, background_color=16777215, camera=[-21.78104699312923…"
      ]
     },
     "metadata": {},
     "output_type": "display_data"
    }
   ],
   "source": [
    "Plotter(backend=\"k3d\")\n",
    "mesh = load_triangular_mesh(mesh_path, keep_only_largest_component=False)\n",
    "laplacian_smoothing(mesh, smooth_factor=0.8, iterations=1, weighting_scheme=LaplaceBeltramiWeighting.COTANGENT_VORONOI_CELL)\n",
    "show(mesh)"
   ]
  },
  {
   "cell_type": "markdown",
   "metadata": {},
   "source": [
    "### Smoothing with \"cotangent\" weighting (one third of vertex cell area approximation)"
   ]
  },
  {
   "cell_type": "code",
   "execution_count": 7,
   "metadata": {},
   "outputs": [
    {
     "data": {
      "application/vnd.jupyter.widget-view+json": {
       "model_id": "e56f378d197147d1a05a70cee80471c8",
       "version_major": 2,
       "version_minor": 0
      },
      "text/plain": [
       "Plot(antialias=3, axes=['x', 'y', 'z'], axes_helper=1.0, background_color=16777215, camera=[-21.78104699312918…"
      ]
     },
     "metadata": {},
     "output_type": "display_data"
    }
   ],
   "source": [
    "Plotter(backend=\"k3d\")\n",
    "mesh = load_triangular_mesh(mesh_path, keep_only_largest_component=False)\n",
    "laplacian_smoothing(mesh, smooth_factor=0.8, iterations=1, weighting_scheme=LaplaceBeltramiWeighting.COTANGENT_ONE_THIRD_TRIANGLE)\n",
    "show(mesh)"
   ]
  },
  {
   "cell_type": "markdown",
   "metadata": {},
   "source": [
    "## Sharpening Operations"
   ]
  },
  {
   "cell_type": "markdown",
   "metadata": {},
   "source": [
    "### Sharpening with \"umbrella\" weighting"
   ]
  },
  {
   "cell_type": "code",
   "execution_count": 8,
   "metadata": {},
   "outputs": [
    {
     "data": {
      "application/vnd.jupyter.widget-view+json": {
       "model_id": "16808261801c48489f6d1b719b133493",
       "version_major": 2,
       "version_minor": 0
      },
      "text/plain": [
       "Plot(antialias=3, axes=['x', 'y', 'z'], axes_helper=1.0, background_color=16777215, camera=[-31.22316031094730…"
      ]
     },
     "metadata": {},
     "output_type": "display_data"
    }
   ],
   "source": [
    "Plotter(backend=\"k3d\")\n",
    "mesh = load_triangular_mesh(mesh_path, keep_only_largest_component=False)\n",
    "laplacian_smoothing(mesh, smooth_factor=-0.8, iterations=1, weighting_scheme=LaplaceBeltramiWeighting.UMBRELLA)\n",
    "show(mesh)"
   ]
  },
  {
   "cell_type": "markdown",
   "metadata": {},
   "source": [
    "### Sharpening with \"cotangent\" weighting (no area normalization)"
   ]
  },
  {
   "cell_type": "code",
   "execution_count": 9,
   "metadata": {},
   "outputs": [
    {
     "data": {
      "application/vnd.jupyter.widget-view+json": {
       "model_id": "02bdb4441c5442bdbd77f36d877e7c8b",
       "version_major": 2,
       "version_minor": 0
      },
      "text/plain": [
       "Plot(antialias=3, axes=['x', 'y', 'z'], axes_helper=1.0, background_color=16777215, camera=[-30.91996886192548…"
      ]
     },
     "metadata": {},
     "output_type": "display_data"
    }
   ],
   "source": [
    "Plotter(backend=\"k3d\")\n",
    "mesh = load_triangular_mesh(mesh_path, keep_only_largest_component=False)\n",
    "laplacian_smoothing(mesh, smooth_factor=-0.8, iterations=1, weighting_scheme=LaplaceBeltramiWeighting.COTANGENT_NO_AREA)\n",
    "show(mesh)"
   ]
  },
  {
   "cell_type": "markdown",
   "metadata": {},
   "source": [
    "### Sharpening with \"cotangent\" weighting (voronoi cell area normalization)"
   ]
  },
  {
   "cell_type": "code",
   "execution_count": 10,
   "metadata": {},
   "outputs": [
    {
     "data": {
      "application/vnd.jupyter.widget-view+json": {
       "model_id": "d2b3841ebae444ec854ab6615647c377",
       "version_major": 2,
       "version_minor": 0
      },
      "text/plain": [
       "Plot(antialias=3, axes=['x', 'y', 'z'], axes_helper=1.0, background_color=16777215, camera=[-30.91996886192542…"
      ]
     },
     "metadata": {},
     "output_type": "display_data"
    }
   ],
   "source": [
    "Plotter(backend=\"k3d\")\n",
    "mesh = load_triangular_mesh(mesh_path, keep_only_largest_component=False)\n",
    "laplacian_smoothing(mesh, smooth_factor=-0.8, iterations=1, weighting_scheme=LaplaceBeltramiWeighting.COTANGENT_VORONOI_CELL)\n",
    "show(mesh)"
   ]
  },
  {
   "cell_type": "markdown",
   "metadata": {},
   "source": [
    "### Sharpening with \"cotangent\" weighting (one third of vertex cell area approximation)"
   ]
  },
  {
   "cell_type": "code",
   "execution_count": 11,
   "metadata": {},
   "outputs": [
    {
     "data": {
      "application/vnd.jupyter.widget-view+json": {
       "model_id": "22db47be3b92453c9f4ddbfbc0e2bd26",
       "version_major": 2,
       "version_minor": 0
      },
      "text/plain": [
       "Plot(antialias=3, axes=['x', 'y', 'z'], axes_helper=1.0, background_color=16777215, camera=[-30.91996886192548…"
      ]
     },
     "metadata": {},
     "output_type": "display_data"
    }
   ],
   "source": [
    "Plotter(backend=\"k3d\")\n",
    "mesh = load_triangular_mesh(mesh_path, keep_only_largest_component=False)\n",
    "laplacian_smoothing(mesh, smooth_factor=-0.8, iterations=1, weighting_scheme=LaplaceBeltramiWeighting.COTANGENT_ONE_THIRD_TRIANGLE)\n",
    "show(mesh)"
   ]
  },
  {
   "cell_type": "markdown",
   "metadata": {},
   "source": [
    "## Interactive Hyperparameters Edit"
   ]
  },
  {
   "cell_type": "markdown",
   "metadata": {},
   "source": [
    "Tweak the hyperparameters below to observe their effect on the smoothing operation.\n",
    "Positive \"strength\" yields smoothing, negative yields sharpening.\n",
    "Iterations determines the number of times the process is repeated over the mesh (in each iteration the Laplacian is recalculated).\n",
    "The weighting determines the weighting scheme used by the Laplacian-Beltrami operator:\n",
    "- Umbrella: each uses a weight of 1.0 for each vertex neighbor (no geometry encoded within Laplacian-Beltrami).\n",
    "- Cotangent No-Area: uses pair of cotangents of face angles formed by vertices i, j.\n",
    "- Cotangent Voronoi-cell: same as above, but normalizes the weights of vertex i and it's neighbours by the Voronoi cell area of vertex i.\n",
    "- Cotangent One-Third of Triangle: same as above, but normalizes the weights of vertex i and it's neighbours by one third of the total areas of triangles vertexi is part of."
   ]
  },
  {
   "cell_type": "code",
   "execution_count": 12,
   "metadata": {},
   "outputs": [
    {
     "data": {
      "application/vnd.jupyter.widget-view+json": {
       "model_id": "e1df8e4b33e34c99825676e72703b85f",
       "version_major": 2,
       "version_minor": 0
      },
      "text/plain": [
       "Output()"
      ]
     },
     "metadata": {},
     "output_type": "display_data"
    },
    {
     "data": {
      "application/vnd.jupyter.widget-view+json": {
       "model_id": "b0ae3a0e8df043e58717792aefa2018a",
       "version_major": 2,
       "version_minor": 0
      },
      "text/plain": [
       "interactive(children=(FloatSlider(value=0.0, continuous_update=False, description='strength', max=1.5, min=-1.…"
      ]
     },
     "metadata": {},
     "output_type": "display_data"
    },
    {
     "data": {
      "application/vnd.jupyter.widget-view+json": {
       "model_id": "2404a64bcd6f4ca88ecdda07f3f89f77",
       "version_major": 2,
       "version_minor": 0
      },
      "text/plain": [
       "interactive(children=(FloatSlider(value=1.0, continuous_update=False, description='iters', max=5.0, min=1.0, s…"
      ]
     },
     "metadata": {},
     "output_type": "display_data"
    },
    {
     "data": {
      "application/vnd.jupyter.widget-view+json": {
       "model_id": "6483976af216442881d2130e01f829a9",
       "version_major": 2,
       "version_minor": 0
      },
      "text/plain": [
       "interactive(children=(Dropdown(description='weighting', options=('UMBRELLA', 'COTANGENT_NO_AREA', 'COTANGENT_V…"
      ]
     },
     "metadata": {},
     "output_type": "display_data"
    },
    {
     "name": "stdout",
     "output_type": "stream",
     "text": [
      "Note: Some calculations may require a few seconds. Do not tweak the knobs too fast!\n"
     ]
    }
   ],
   "source": [
    "import k3d\n",
    "from ipywidgets import interact, interactive, fixed, FloatSlider, IntSlider, Dropdown\n",
    "import ipywidgets as widgets\n",
    "\n",
    "Plotter(backend=\"k3d\")\n",
    "mesh = load_triangular_mesh(mesh_path, keep_only_largest_component=False)\n",
    "plot = k3d.plot()\n",
    "mesh_k3d = k3d.vtk_poly_data(trimesh2vedo(mesh).polydata(), color=0x555555)\n",
    "plot += mesh_k3d\n",
    "plot.display()\n",
    "\n",
    "weighting_mapping = {weighting_enum_entry.name: weighting_enum_entry for weighting_enum_entry in LaplaceBeltramiWeighting}\n",
    "weighting_choices = list(weighting_mapping.keys())\n",
    "smooth_factor = 0.0\n",
    "iterations = 1\n",
    "weighting_scheme = weighting_mapping[weighting_choices[0]]\n",
    "\n",
    "def _run_smooth_and_render(mesh_to_process):\n",
    "    global mesh_k3d, plot, smooth_factor, iterations\n",
    "    mesh_to_smooth = mesh_to_process.copy()\n",
    "    laplacian_smoothing(mesh_to_smooth, smooth_factor=smooth_factor, iterations=iterations,\n",
    "                        weighting_scheme=weighting_scheme)\n",
    "\n",
    "    plot -= mesh_k3d\n",
    "    mesh_k3d = k3d.vtk_poly_data(trimesh2vedo(mesh_to_smooth).polydata(), color=0x555555)\n",
    "    plot += mesh_k3d\n",
    "\n",
    "@interact(strength = FloatSlider(min=-1.5,max=1.5,step=0.1, continuous_update=False))\n",
    "def _(strength):\n",
    "    global smooth_factor, mesh\n",
    "    smooth_factor = strength\n",
    "    _run_smooth_and_render(mesh)\n",
    "    \n",
    "@interact(iters = FloatSlider(min=1,max=5,step=1, continuous_update=False))\n",
    "def _(iters):\n",
    "    global iterations, mesh\n",
    "    iterations = int(iters)\n",
    "    _run_smooth_and_render(mesh)\n",
    "    \n",
    "@interact(weighting = Dropdown(options=weighting_choices, value=weighting_choices[0], description='weighting'))\n",
    "def _(weighting):\n",
    "    global weighting_mapping, weighting_scheme, mesh\n",
    "    weighting_scheme = weighting_mapping[weighting]\n",
    "    _run_smooth_and_render(mesh)\n",
    "    \n",
    "print('Note: Some calculations may require a few seconds. Do not tweak the knobs too fast!')"
   ]
  }
 ],
 "metadata": {
  "kernelspec": {
   "display_name": "Python 3",
   "language": "python",
   "name": "python3"
  },
  "language_info": {
   "codemirror_mode": {
    "name": "ipython",
    "version": 3
   },
   "file_extension": ".py",
   "mimetype": "text/x-python",
   "name": "python",
   "nbconvert_exporter": "python",
   "pygments_lexer": "ipython3",
   "version": "3.7.5"
  }
 },
 "nbformat": 4,
 "nbformat_minor": 2
}