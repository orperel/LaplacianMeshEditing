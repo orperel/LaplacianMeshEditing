{
 "cells": [
  {
   "cell_type": "markdown",
   "metadata": {},
   "source": [
    "# Smoothing & Sharpening Demonstration"
   ]
  },
  {
   "cell_type": "markdown",
   "metadata": {},
   "source": [
    "## Boilerplate Code"
   ]
  },
  {
   "cell_type": "code",
   "execution_count": 5,
   "metadata": {},
   "outputs": [
    {
     "name": "stdout",
     "output_type": "stream",
     "text": [
      "Demo Ready.\n"
     ]
    }
   ],
   "source": [
    "import os, sys\n",
    "sys.path.append(os.getcwd())\n",
    "sys.path.append(os.getcwd() + '/..')\n",
    "sys.path.append(os.getcwd() + '/../..')\n",
    "sys.path.append(os.getcwd() + '/../lib')\n",
    "sys.path.append(os.getcwd() + '/../../lib')\n",
    "\n",
    "from vtkplotter import *\n",
    "embedWindow(backend=\"k3d\")\n",
    "\n",
    "from lib.mesh_util import load_triangular_mesh, present_mesh\n",
    "from lib.laplacian_operations import *\n",
    "from lib.laplacian_beltrami import LaplaceBeltramiWeighting\n",
    "from vtkplotter import *\n",
    "from trimesh import Trimesh\n",
    "import numpy as np\n",
    "from scipy import sparse\n",
    "\n",
    "print('Demo Ready.')"
   ]
  },
  {
   "cell_type": "markdown",
   "metadata": {},
   "source": [
    "## Available Meshes"
   ]
  },
  {
   "cell_type": "code",
   "execution_count": 6,
   "metadata": {},
   "outputs": [],
   "source": [
    "OLAF = r\"/Users/orperel/personal/tau/spectral_modeling/models/olafdidofranza/File/OBj/Studio Pose OLAF.obj\"\n",
    "BATMAN = r\"/Users/orperel/personal/tau/spectral_modeling/models/batman/batman.obj\"\n",
    "TEAPOT = r\"/Users/orperel/personal/tau/spectral_modeling/models/teapot/teapot.obj\"\n",
    "DEER = r\"/Users/orperel/personal/tau/spectral_modeling/models/lowpolydeer/deer.obj\"\n",
    "HUMAN = r\"/Users/orperel/personal/tau/spectral_modeling/models/human/sculpt.obj\"\n",
    "OGRE = r\"/Users/orperel/personal/tau/spectral_modeling/models/ogre/OgreOBJ.obj\"\n",
    "\n",
    "\n",
    "mesh_path = DEER"
   ]
  },
  {
   "cell_type": "markdown",
   "metadata": {},
   "source": [
    "## Default Mesh"
   ]
  },
  {
   "cell_type": "code",
   "execution_count": 7,
   "metadata": {},
   "outputs": [
    {
     "data": {
      "application/vnd.jupyter.widget-view+json": {
       "model_id": "96ada87e65ab4057b0ad33bcf8b8bb5a",
       "version_major": 2,
       "version_minor": 0
      },
      "text/plain": [
       "Plot(antialias=3, axes=['x', 'y', 'z'], axes_helper=1.0, background_color=16777215, camera=[-26.51528266097211…"
      ]
     },
     "metadata": {},
     "output_type": "display_data"
    }
   ],
   "source": [
    "embedWindow(backend=\"k3d\")\n",
    "mesh = load_triangular_mesh(mesh_path, keep_only_largest_component=False)\n",
    "show(mesh)"
   ]
  },
  {
   "cell_type": "markdown",
   "metadata": {},
   "source": [
    "## Smoothing Operations"
   ]
  },
  {
   "cell_type": "markdown",
   "metadata": {},
   "source": [
    "### Smoothing with \"umbrella\" weighting"
   ]
  },
  {
   "cell_type": "code",
   "execution_count": 8,
   "metadata": {},
   "outputs": [
    {
     "data": {
      "application/vnd.jupyter.widget-view+json": {
       "model_id": "107c97a0aef8483ab02628614622beaf",
       "version_major": 2,
       "version_minor": 0
      },
      "text/plain": [
       "Plot(antialias=3, axes=['x', 'y', 'z'], axes_helper=1.0, background_color=16777215, camera=[-20.5329906818121,…"
      ]
     },
     "metadata": {},
     "output_type": "display_data"
    }
   ],
   "source": [
    "embedWindow(backend=\"k3d\")\n",
    "mesh = load_triangular_mesh(mesh_path, keep_only_largest_component=False)\n",
    "laplacian_smoothing(mesh, smooth_factor=0.8, iterations=1, weighting_scheme=LaplaceBeltramiWeighting.UMBRELLA)\n",
    "show(mesh)"
   ]
  },
  {
   "cell_type": "markdown",
   "metadata": {},
   "source": [
    "### Smoothing with \"cotangent\" weighting (no area normalization)"
   ]
  },
  {
   "cell_type": "code",
   "execution_count": 9,
   "metadata": {
    "scrolled": true
   },
   "outputs": [
    {
     "data": {
      "application/vnd.jupyter.widget-view+json": {
       "model_id": "eaf079696aa441369f70581a5e4cae96",
       "version_major": 2,
       "version_minor": 0
      },
      "text/plain": [
       "Plot(antialias=3, axes=['x', 'y', 'z'], axes_helper=1.0, background_color=16777215, camera=[-21.78104699312918…"
      ]
     },
     "metadata": {},
     "output_type": "display_data"
    }
   ],
   "source": [
    "embedWindow(backend=\"k3d\")\n",
    "mesh = load_triangular_mesh(mesh_path, keep_only_largest_component=False)\n",
    "laplacian_smoothing(mesh, smooth_factor=0.8, iterations=1, weighting_scheme=LaplaceBeltramiWeighting.COTANGENT_NO_AREA)\n",
    "show(mesh)"
   ]
  },
  {
   "cell_type": "markdown",
   "metadata": {},
   "source": [
    "### Smoothing with \"cotangent\" weighting (voronoi cell area normalization)"
   ]
  },
  {
   "cell_type": "code",
   "execution_count": 10,
   "metadata": {},
   "outputs": [
    {
     "data": {
      "application/vnd.jupyter.widget-view+json": {
       "model_id": "8d42d83dfa7b4fceb4b21c6243864dfb",
       "version_major": 2,
       "version_minor": 0
      },
      "text/plain": [
       "Plot(antialias=3, axes=['x', 'y', 'z'], axes_helper=1.0, background_color=16777215, camera=[-21.78104699312923…"
      ]
     },
     "metadata": {},
     "output_type": "display_data"
    }
   ],
   "source": [
    "embedWindow(backend=\"k3d\")\n",
    "mesh = load_triangular_mesh(mesh_path, keep_only_largest_component=False)\n",
    "laplacian_smoothing(mesh, smooth_factor=0.8, iterations=1, weighting_scheme=LaplaceBeltramiWeighting.COTANGENT_VORONOI_CELL)\n",
    "show(mesh)"
   ]
  },
  {
   "cell_type": "markdown",
   "metadata": {},
   "source": [
    "### Smoothing with \"cotangent\" weighting (one third of vertex cell area approximation)"
   ]
  },
  {
   "cell_type": "code",
   "execution_count": 11,
   "metadata": {},
   "outputs": [
    {
     "data": {
      "application/vnd.jupyter.widget-view+json": {
       "model_id": "658974c76ec84b8bb6eb9005a3519f1b",
       "version_major": 2,
       "version_minor": 0
      },
      "text/plain": [
       "Plot(antialias=3, axes=['x', 'y', 'z'], axes_helper=1.0, background_color=16777215, camera=[-21.78104699312918…"
      ]
     },
     "metadata": {},
     "output_type": "display_data"
    }
   ],
   "source": [
    "embedWindow(backend=\"k3d\")\n",
    "mesh = load_triangular_mesh(mesh_path, keep_only_largest_component=False)\n",
    "laplacian_smoothing(mesh, smooth_factor=0.8, iterations=1, weighting_scheme=LaplaceBeltramiWeighting.COTANGENT_ONE_THIRD_TRIANGLE)\n",
    "show(mesh)"
   ]
  },
  {
   "cell_type": "markdown",
   "metadata": {},
   "source": [
    "## Sharpening Operations"
   ]
  },
  {
   "cell_type": "markdown",
   "metadata": {},
   "source": [
    "### Sharpening with \"umbrella\" weighting"
   ]
  },
  {
   "cell_type": "code",
   "execution_count": 12,
   "metadata": {},
   "outputs": [
    {
     "data": {
      "application/vnd.jupyter.widget-view+json": {
       "model_id": "d47f29e303c749e69e8f06a92276afd5",
       "version_major": 2,
       "version_minor": 0
      },
      "text/plain": [
       "Plot(antialias=3, axes=['x', 'y', 'z'], axes_helper=1.0, background_color=16777215, camera=[-31.22316031094730…"
      ]
     },
     "metadata": {},
     "output_type": "display_data"
    }
   ],
   "source": [
    "embedWindow(backend=\"k3d\")\n",
    "mesh = load_triangular_mesh(mesh_path, keep_only_largest_component=False)\n",
    "laplacian_smoothing(mesh, smooth_factor=-0.8, iterations=1, weighting_scheme=LaplaceBeltramiWeighting.UMBRELLA)\n",
    "show(mesh)"
   ]
  },
  {
   "cell_type": "markdown",
   "metadata": {},
   "source": [
    "### Sharpening with \"cotangent\" weighting (no area normalization)"
   ]
  },
  {
   "cell_type": "code",
   "execution_count": 13,
   "metadata": {},
   "outputs": [
    {
     "data": {
      "application/vnd.jupyter.widget-view+json": {
       "model_id": "da7d746be3814b7491920c5c63518d1f",
       "version_major": 2,
       "version_minor": 0
      },
      "text/plain": [
       "Plot(antialias=3, axes=['x', 'y', 'z'], axes_helper=1.0, background_color=16777215, camera=[-30.91996886192548…"
      ]
     },
     "metadata": {},
     "output_type": "display_data"
    }
   ],
   "source": [
    "embedWindow(backend=\"k3d\")\n",
    "mesh = load_triangular_mesh(mesh_path, keep_only_largest_component=False)\n",
    "laplacian_smoothing(mesh, smooth_factor=-0.8, iterations=1, weighting_scheme=LaplaceBeltramiWeighting.COTANGENT_NO_AREA)\n",
    "show(mesh)"
   ]
  },
  {
   "cell_type": "markdown",
   "metadata": {},
   "source": [
    "### Sharpening with \"cotangent\" weighting (voronoi cell area normalization)"
   ]
  },
  {
   "cell_type": "code",
   "execution_count": 14,
   "metadata": {},
   "outputs": [
    {
     "data": {
      "application/vnd.jupyter.widget-view+json": {
       "model_id": "729fdce90e0643a29dce686b319f75fd",
       "version_major": 2,
       "version_minor": 0
      },
      "text/plain": [
       "Plot(antialias=3, axes=['x', 'y', 'z'], axes_helper=1.0, background_color=16777215, camera=[-30.91996886192542…"
      ]
     },
     "metadata": {},
     "output_type": "display_data"
    }
   ],
   "source": [
    "embedWindow(backend=\"k3d\")\n",
    "mesh = load_triangular_mesh(mesh_path, keep_only_largest_component=False)\n",
    "laplacian_smoothing(mesh, smooth_factor=-0.8, iterations=1, weighting_scheme=LaplaceBeltramiWeighting.COTANGENT_VORONOI_CELL)\n",
    "show(mesh)"
   ]
  },
  {
   "cell_type": "markdown",
   "metadata": {},
   "source": [
    "### Sharpening with \"cotangent\" weighting (one third of vertex cell area approximation)"
   ]
  },
  {
   "cell_type": "code",
   "execution_count": 15,
   "metadata": {},
   "outputs": [
    {
     "data": {
      "application/vnd.jupyter.widget-view+json": {
       "model_id": "b47894c048a74b8eb97487680b0ab22d",
       "version_major": 2,
       "version_minor": 0
      },
      "text/plain": [
       "Plot(antialias=3, axes=['x', 'y', 'z'], axes_helper=1.0, background_color=16777215, camera=[-30.91996886192548…"
      ]
     },
     "metadata": {},
     "output_type": "display_data"
    }
   ],
   "source": [
    "embedWindow(backend=\"k3d\")\n",
    "mesh = load_triangular_mesh(mesh_path, keep_only_largest_component=False)\n",
    "laplacian_smoothing(mesh, smooth_factor=-0.8, iterations=1, weighting_scheme=LaplaceBeltramiWeighting.COTANGENT_ONE_THIRD_TRIANGLE)\n",
    "show(mesh)"
   ]
  },
  {
   "cell_type": "markdown",
   "metadata": {},
   "source": [
    "## Interactive Hyperparameters Edit"
   ]
  },
  {
   "cell_type": "markdown",
   "metadata": {},
   "source": [
    "Tweak the hyperparameters below to observe their effect on the smoothing operation.\n",
    "Positive \"strength\" yields smoothing, negative yields sharpening.\n",
    "Iterations determines the number of times the process is repeated over the mesh (in each iteration the Laplacian is recalculated).\n",
    "The weighting determines the weighting scheme used by the Laplacian-Beltrami operator:\n",
    "- Umbrella: each uses a weight of 1.0 for each vertex neighbor (no geometry encoded within Laplacian-Beltrami).\n",
    "- Cotangent No-Area: uses pair of cotangents of face angles formed by vertices i, j.\n",
    "- Cotangent Voronoi-cell: same as above, but normalizes the weights of vertex i and it's neighbours by the Voronoi cell area of vertex i.\n",
    "- Cotangent One-Third of Triangle: same as above, but normalizes the weights of vertex i and it's neighbours by one third of the total areas of triangles vertexi is part of."
   ]
  },
  {
   "cell_type": "code",
   "execution_count": 16,
   "metadata": {},
   "outputs": [
    {
     "data": {
      "application/vnd.jupyter.widget-view+json": {
       "model_id": "3442b6bb42974741b017203102066c91",
       "version_major": 2,
       "version_minor": 0
      },
      "text/plain": [
       "Output()"
      ]
     },
     "metadata": {},
     "output_type": "display_data"
    },
    {
     "data": {
      "application/vnd.jupyter.widget-view+json": {
       "model_id": "edafb71e57bd4deb8acca4664ef2122c",
       "version_major": 2,
       "version_minor": 0
      },
      "text/plain": [
       "interactive(children=(FloatSlider(value=0.0, continuous_update=False, description='strength', max=1.5, min=-1.…"
      ]
     },
     "metadata": {},
     "output_type": "display_data"
    },
    {
     "data": {
      "application/vnd.jupyter.widget-view+json": {
       "model_id": "cd1c0ada26c34b239f3da427818dc53e",
       "version_major": 2,
       "version_minor": 0
      },
      "text/plain": [
       "interactive(children=(FloatSlider(value=1.0, continuous_update=False, description='iters', max=5.0, min=1.0, s…"
      ]
     },
     "metadata": {},
     "output_type": "display_data"
    },
    {
     "data": {
      "application/vnd.jupyter.widget-view+json": {
       "model_id": "207ed638856f45da818fb03b362144dd",
       "version_major": 2,
       "version_minor": 0
      },
      "text/plain": [
       "interactive(children=(Dropdown(description='weighting', options=('UMBRELLA', 'COTANGENT_NO_AREA', 'COTANGENT_V…"
      ]
     },
     "metadata": {},
     "output_type": "display_data"
    },
    {
     "name": "stdout",
     "output_type": "stream",
     "text": [
      "Note: Some calculations may require a few seconds. Do not tweak the knobs too fast!\n"
     ]
    }
   ],
   "source": [
    "import k3d\n",
    "from ipywidgets import interact, interactive, fixed, FloatSlider, IntSlider, Dropdown\n",
    "import ipywidgets as widgets\n",
    "\n",
    "embedWindow(backend=\"k3d\")\n",
    "mesh = load_triangular_mesh(mesh_path, keep_only_largest_component=False)\n",
    "plot = k3d.plot()\n",
    "mesh_k3d = k3d.vtk_poly_data(trimesh2vtk(mesh).polydata(), color=0x555555)\n",
    "plot += mesh_k3d\n",
    "plot.display()\n",
    "\n",
    "weighting_mapping = {weighting_enum_entry.name: weighting_enum_entry for weighting_enum_entry in LaplaceBeltramiWeighting}\n",
    "weighting_choices = list(weighting_mapping.keys())\n",
    "smooth_factor = 0.0\n",
    "iterations = 1\n",
    "weighting_scheme = weighting_mapping[weighting_choices[0]]\n",
    "\n",
    "def _run_smooth_and_render(mesh_to_process):\n",
    "    global mesh_k3d, plot, smooth_factor, iterations\n",
    "    mesh_to_smooth = mesh_to_process.copy()\n",
    "    laplacian_smoothing(mesh_to_smooth, smooth_factor=smooth_factor, iterations=iterations,\n",
    "                        weighting_scheme=weighting_scheme)\n",
    "\n",
    "    plot -= mesh_k3d\n",
    "    mesh_k3d = k3d.vtk_poly_data(trimesh2vtk(mesh_to_smooth).polydata(), color=0x555555)\n",
    "    plot += mesh_k3d\n",
    "\n",
    "@interact(strength = FloatSlider(min=-1.5,max=1.5,step=0.1, continuous_update=False))\n",
    "def _(strength):\n",
    "    global smooth_factor, mesh\n",
    "    smooth_factor = strength\n",
    "    _run_smooth_and_render(mesh)\n",
    "    \n",
    "@interact(iters = FloatSlider(min=1,max=5,step=1, continuous_update=False))\n",
    "def _(iters):\n",
    "    global iterations, mesh\n",
    "    iterations = int(iters)\n",
    "    _run_smooth_and_render(mesh)\n",
    "    \n",
    "@interact(weighting = Dropdown(options=weighting_choices, value=weighting_choices[0], description='weighting'))\n",
    "def _(weighting):\n",
    "    global weighting_mapping, weighting_scheme, mesh\n",
    "    weighting_scheme = weighting_mapping[weighting]\n",
    "    _run_smooth_and_render(mesh)\n",
    "    \n",
    "print('Note: Some calculations may require a few seconds. Do not tweak the knobs too fast!')"
   ]
  }
 ],
 "metadata": {
  "kernelspec": {
   "display_name": "Python 3",
   "language": "python",
   "name": "python3"
  },
  "language_info": {
   "codemirror_mode": {
    "name": "ipython",
    "version": 3
   },
   "file_extension": ".py",
   "mimetype": "text/x-python",
   "name": "python",
   "nbconvert_exporter": "python",
   "pygments_lexer": "ipython3",
   "version": "3.7.5"
  }
 },
 "nbformat": 4,
 "nbformat_minor": 2
}
