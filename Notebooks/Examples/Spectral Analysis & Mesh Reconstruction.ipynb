{
 "cells": [
  {
   "cell_type": "markdown",
   "metadata": {},
   "source": [
    "# Spectral Analysis & Mesh Reconstruction"
   ]
  },
  {
   "cell_type": "markdown",
   "metadata": {},
   "source": [
    "## Boilerplate Code"
   ]
  },
  {
   "cell_type": "code",
   "execution_count": 1,
   "metadata": {},
   "outputs": [
    {
     "name": "stdout",
     "output_type": "stream",
     "text": [
      "Demo Ready.\n"
     ]
    }
   ],
   "source": [
    "import os, sys\n",
    "sys.path.append(os.getcwd())\n",
    "sys.path.append(os.getcwd() + '/..')\n",
    "sys.path.append(os.getcwd() + '/../..')\n",
    "sys.path.append(os.getcwd() + '/../lib')\n",
    "sys.path.append(os.getcwd() + '/../../lib')\n",
    "\n",
    "from vedo import *\n",
    "Plotter(backend=\"k3d\")\n",
    "\n",
    "from lib.mesh_util import load_triangular_mesh, present_mesh\n",
    "from lib.laplacian_operations import *\n",
    "from lib.laplacian_beltrami import LaplaceBeltramiWeighting\n",
    "from vedo import *\n",
    "from trimesh import Trimesh\n",
    "import numpy as np\n",
    "from scipy import sparse\n",
    "\n",
    "print('Demo Ready.')"
   ]
  },
  {
   "cell_type": "markdown",
   "metadata": {},
   "source": [
    "## Available Meshes"
   ]
  },
  {
   "cell_type": "code",
   "execution_count": 2,
   "metadata": {},
   "outputs": [],
   "source": [
    "root_dir = f\"{os.getcwd()}/../..\"\n",
    "OLAF = f\"{root_dir}/models/olafdidofranza/File/OBj/Studio Pose OLAF.obj\"\n",
    "BATMAN = f\"{root_dir}/models/batman/batman.obj\"\n",
    "TEAPOT = f\"{root_dir}/models/teapot/teapot.obj\"\n",
    "DEER = f\"{root_dir}/models/lowpolydeer/deer.obj\"\n",
    "HUMAN = f\"{root_dir}/models/human/sculpt.obj\"\n",
    "OGRE = f\"{root_dir}/models/ogre/OgreOBJ.obj\"\n",
    "GOOFY_GORGON = f\"{root_dir}/models/gorgon/17902_Goofy_Gorgon_V1.obj\"\n",
    "LIBRARIAN = f\"{root_dir}/models/librarian/Librarian.obj\"\n",
    "\n",
    "\n",
    "mesh_path = LIBRARIAN"
   ]
  },
  {
   "cell_type": "markdown",
   "metadata": {},
   "source": [
    "## Default Mesh"
   ]
  },
  {
   "cell_type": "code",
   "execution_count": 3,
   "metadata": {},
   "outputs": [
    {
     "data": {
      "application/vnd.jupyter.widget-view+json": {
       "model_id": "b1d0c39747bb4683a32ee8f1c1db5e65",
       "version_major": 2,
       "version_minor": 0
      },
      "text/plain": [
       "Plot(antialias=True, axes=['x', 'y', 'z'], axes_helper=1.0, background_color=16777215, camera=[2, -3, 0.2, 0.0…"
      ]
     },
     "metadata": {},
     "output_type": "display_data"
    }
   ],
   "source": [
    "Plotter(backend=\"k3d\")\n",
    "mesh = load_triangular_mesh(mesh_path, keep_only_largest_component=False)\n",
    "show(mesh, viewup=\"y\")"
   ]
  },
  {
   "cell_type": "markdown",
   "metadata": {},
   "source": [
    "## Eigendecomposition"
   ]
  },
  {
   "cell_type": "markdown",
   "metadata": {},
   "source": [
    "Set K to the number of eigenvalues the decomposition should yield (setting too high of a number may crash the app)."
   ]
  },
  {
   "cell_type": "code",
   "execution_count": 4,
   "metadata": {},
   "outputs": [],
   "source": [
    "K = 430\n",
    "weighting_scheme = LaplaceBeltramiWeighting.COTANGENT_NO_AREA"
   ]
  },
  {
   "cell_type": "code",
   "execution_count": 5,
   "metadata": {},
   "outputs": [
    {
     "name": "stdout",
     "output_type": "stream",
     "text": [
      "Eigen-decomposition complete - proceed to the rest of the demo.\n"
     ]
    }
   ],
   "source": [
    "import numpy as np\n",
    "\n",
    "mesh = load_triangular_mesh(mesh_path, keep_only_largest_component=False)\n",
    "eigvalues, eigvectors = spectral_decomposition(mesh, weighting_scheme, K, eps=1e-14)\n",
    "\n",
    "print('Eigen-decomposition complete - proceed to the rest of the demo.')"
   ]
  },
  {
   "cell_type": "markdown",
   "metadata": {},
   "source": [
    "## Spectral Analysis"
   ]
  },
  {
   "cell_type": "markdown",
   "metadata": {},
   "source": [
    "### Eigenvalues"
   ]
  },
  {
   "cell_type": "markdown",
   "metadata": {},
   "source": [
    "The following plot shows the magnitude of the Laplacian's eigenvalues, in ascending order."
   ]
  },
  {
   "cell_type": "code",
   "execution_count": 6,
   "metadata": {},
   "outputs": [
    {
     "data": {
      "image/png": "[encoded data removed]",
      "text/plain": [
       "<Figure size 936x720 with 1 Axes>"
      ]
     },
     "metadata": {
      "needs_background": "light"
     },
     "output_type": "display_data"
    }
   ],
   "source": [
    "import seaborn as sns\n",
    "import matplotlib.pyplot as plt\n",
    "import matplotlib.ticker as plticker\n",
    "\n",
    "# sns.set(style=\"white\", context=\"talk\")\n",
    "f, ax = plt.subplots(1, 1, figsize=(13, 10))\n",
    "x = np.arange(1,len(eigvalues) + 1)\n",
    "y = np.abs(eigvalues)\n",
    "g = sns.barplot(x=x, y=y, palette=\"rocket\", ax=ax)\n",
    "ax.set_ylabel(\"Magnitude\")\n",
    "ax.set_xlabel(\"Eigenvalue index\")\n",
    "\n",
    "x_tick_values = np.linspace(min(x), max(x)+1, 10, dtype=int)\n",
    "\n",
    "labels = ax.get_xticklabels() # get x labels\n",
    "for i,l in enumerate(labels[:-1]):\n",
    "    if(i%(K//10) != 0):\n",
    "        labels[i] = '' # skip even labels\n",
    "ax.set_xticklabels(labels, rotation=30) # set new labels\n",
    "\n",
    "plt.ticklabel_format(style='sci', axis='y')\n",
    "\n",
    "def change_width(ax, new_value) :\n",
    "    for patch in ax.patches :\n",
    "        current_width = patch.get_width()\n",
    "        diff = current_width - new_value\n",
    "\n",
    "        # we change the bar width\n",
    "        patch.set_width(new_value)\n",
    "\n",
    "        # we recenter the bar\n",
    "        patch.set_x(patch.get_x() + diff * .5)\n",
    "\n",
    "change_width(ax, .59)\n",
    "f.suptitle('Spectral Decomposition Eigenvalues', fontsize=20)\n",
    "plt.show()"
   ]
  },
  {
   "cell_type": "markdown",
   "metadata": {},
   "source": [
    "### Eigenvectors"
   ]
  },
  {
   "cell_type": "markdown",
   "metadata": {},
   "source": [
    "Visualization of Laplacian spectral decomposition. <br>\n",
    "Tweak the slider to view the various eigenvectors composing the Fourier basis of the Laplacian matrix. <br>"
   ]
  },
  {
   "cell_type": "code",
   "execution_count": 32,
   "metadata": {},
   "outputs": [],
   "source": [
    "mesh_vtk.cmap?"
   ]
  },
  {
   "cell_type": "code",
   "execution_count": 34,
   "metadata": {
    "scrolled": false
   },
   "outputs": [
    {
     "data": {
      "application/vnd.jupyter.widget-view+json": {
       "model_id": "01dca6c8f767475db17e3079f941e9f3",
       "version_major": 2,
       "version_minor": 0
      },
      "text/plain": [
       "IntSlider(value=0, continuous_update=False, description='eigenvector_id:', layout=Layout(width='900px'), max=4…"
      ]
     },
     "metadata": {},
     "output_type": "display_data"
    },
    {
     "data": {
      "application/vnd.jupyter.widget-view+json": {
       "model_id": "f066ccc9e8034e0ea78ccea50e96fba7",
       "version_major": 2,
       "version_minor": 0
      },
      "text/plain": [
       "Output()"
      ]
     },
     "metadata": {},
     "output_type": "display_data"
    }
   ],
   "source": [
    "import k3d\n",
    "from ipywidgets import interact, interactive, fixed, IntSlider, Dropdown\n",
    "import ipywidgets as widgets\n",
    "import vtk\n",
    "from vedo import colors\n",
    "\n",
    "cmap = 'winter'\n",
    "lut = []\n",
    "for i in range(256):\n",
    "    r, g, b = colors.colorMap(i, cmap, 0, 256)\n",
    "    lut.append((i, r, g, b))\n",
    "\n",
    "Plotter(backend=\"k3d\")\n",
    "plot = k3d.plot()\n",
    "mesh = load_triangular_mesh(mesh_path, keep_only_largest_component=False)\n",
    "mesh_vtk = trimesh2vedo(mesh)\n",
    "eigven_field = eigvectors[:,1]\n",
    "mesh_vtk.cmap(on='points', input_array=eigven_field, cname=cmap, arrayName=\"pointColors_winter\")\n",
    "mesh_k3d = k3d.vtk_poly_data(mesh_vtk.polydata(),\n",
    "                             color_attribute=('pointColors_winter', np.min(eigven_field), np.max(eigven_field)),\n",
    "                             color_map=lut)\n",
    "plot += mesh_k3d\n",
    "\n",
    "eigenvector_id = IntSlider(min=0,max=K-1,step=1, continuous_update=False,\n",
    "                                     layout={'width': '900px'}, description='eigenvector_id:',\n",
    "                                     style = {'description_width': 'initial'})\n",
    "def on_slider_change(params):\n",
    "    global mesh_k3d, mesh, plot, mesh_vtk\n",
    "    eigenvector_id = params['new']\n",
    "    eigven_field = eigvectors[:,eigenvector_id]    \n",
    "    \n",
    "    camera = plot.camera\n",
    "    plot.camera_auto_fit = False    \n",
    "    plot -= mesh_k3d   \n",
    "    mesh_vtk.cmap(on='points', input_array=eigven_field, cname=cmap, arrayName=\"pointColors_winter\")\n",
    "    mesh_k3d = k3d.vtk_poly_data(mesh_vtk.polydata(),\n",
    "                                 color_attribute=('pointColors_winter', np.min(eigven_field), np.max(eigven_field)),\n",
    "                                 color_map=lut)\n",
    "    plot += mesh_k3d\n",
    "    plot.camera = camera\n",
    "\n",
    "    \n",
    "eigenvector_id.observe(on_slider_change, 'value')\n",
    "display(eigenvector_id)\n",
    "\n",
    "if mesh_path == LIBRARIAN:\n",
    "    plot.camera_auto_fit = False      \n",
    "    plot.camera = [-0.9836856115441313, 129.89389850777974, 272.0423783356993,\n",
    "                   7.705028633402967, 123.96748549648429, 11.550819621676315,\n",
    "                   -0.026766749427716813, 0.9991355868202794, 0.031805978594613794]\n",
    "plot.display()"
   ]
  },
  {
   "cell_type": "markdown",
   "metadata": {},
   "source": [
    "## Mesh Reconstruction"
   ]
  },
  {
   "cell_type": "markdown",
   "metadata": {},
   "source": [
    "This Mesh Reconstruction scheme uses the first M eigenvectors to rebuild the mesh. <br>\n",
    "First Laplacian-Beltrami is constructed and decomposed to M eigenvectors, denoted by L_M. <br>\n",
    "Then, the reconstructed mesh is calculated by L_M @ L_M^T @ v  (where @ denotes matrix multiplication, ^T denotes transposition)"
   ]
  },
  {
   "cell_type": "code",
   "execution_count": 35,
   "metadata": {
    "scrolled": false
   },
   "outputs": [
    {
     "data": {
      "application/vnd.jupyter.widget-view+json": {
       "model_id": "1330cb8434964a3d8e39dc0cac131478",
       "version_major": 2,
       "version_minor": 0
      },
      "text/plain": [
       "Output()"
      ]
     },
     "metadata": {},
     "output_type": "display_data"
    },
    {
     "data": {
      "application/vnd.jupyter.widget-view+json": {
       "model_id": "602ed51f00144129b7fc6e81e144683c",
       "version_major": 2,
       "version_minor": 0
      },
      "text/plain": [
       "IntSlider(value=1, continuous_update=False, description='#vectors to use:', layout=Layout(width='900px'), max=…"
      ]
     },
     "metadata": {},
     "output_type": "display_data"
    }
   ],
   "source": [
    "import k3d\n",
    "from ipywidgets import interact, interactive, fixed, IntSlider, Dropdown\n",
    "import ipywidgets as widgets\n",
    "\n",
    "\n",
    "plot_r = k3d.plot()\n",
    "mesh_k3d_r = k3d.vtk_poly_data(trimesh2vedo(mesh).polydata(), color=0x555555)\n",
    "plot_r += mesh_k3d_r\n",
    "plot_r.display()\n",
    "\n",
    "\n",
    "vecs_count_to_use = IntSlider(min=1,max=K-1,step=1, continuous_update=False,\n",
    "                              layout={'width': '900px'}, description='#vectors to use:',\n",
    "                              style = {'description_width': 'initial'})\n",
    "def on_vec_count_slider_change(params):\n",
    "    global mesh_k3d_r, mesh, plot_r\n",
    "    vecs_count = params['new']\n",
    "    \n",
    "    camera = plot_r.camera\n",
    "    plot_r.camera_auto_fit = False    \n",
    "    plot_r -= mesh_k3d_r\n",
    "    \n",
    "    mesh_to_reconstruct = mesh_reconstruct(mesh, eigvectors, vec_count_to_use=vecs_count)\n",
    "    mesh_k3d_r = k3d.vtk_poly_data(trimesh2vedo(mesh_to_reconstruct).polydata(), color=0x555555)\n",
    "    plot_r += mesh_k3d_r\n",
    "    plot_r.camera = camera\n",
    "\n",
    "    \n",
    "vecs_count_to_use.observe(on_vec_count_slider_change, 'value')\n",
    "display(vecs_count_to_use)\n",
    "\n",
    "if mesh_path == LIBRARIAN:\n",
    "    plot_r.camera_auto_fit = False      \n",
    "    plot_r.camera = [-0.9836856115441313, 129.89389850777974, 272.0423783356993,\n",
    "                   7.705028633402967, 123.96748549648429, 11.550819621676315,\n",
    "                   -0.026766749427716813, 0.9991355868202794, 0.031805978594613794]"
   ]
  }
 ],
 "metadata": {
  "kernelspec": {
   "display_name": "Python 3 (ipykernel)",
   "language": "python",
   "name": "python3"
  },
  "language_info": {
   "codemirror_mode": {
    "name": "ipython",
    "version": 3
   },
   "file_extension": ".py",
   "mimetype": "text/x-python",
   "name": "python",
   "nbconvert_exporter": "python",
   "pygments_lexer": "ipython3",
   "version": "3.8.8"
  }
 },
 "nbformat": 4,
 "nbformat_minor": 2
}