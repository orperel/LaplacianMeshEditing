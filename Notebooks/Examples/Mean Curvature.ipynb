{
 "cells": [
  {
   "cell_type": "markdown",
   "metadata": {},
   "source": [
    "# Mean Curvature Demonstration"
   ]
  },
  {
   "cell_type": "markdown",
   "metadata": {},
   "source": [
    "## Boilerplate Code"
   ]
  },
  {
   "cell_type": "code",
   "execution_count": 1,
   "metadata": {},
   "outputs": [
    {
     "name": "stdout",
     "output_type": "stream",
     "text": [
      "Demo Ready.\n"
     ]
    }
   ],
   "source": [
    "import os, sys\n",
    "sys.path.append(os.getcwd())\n",
    "sys.path.append(os.getcwd() + '/..')\n",
    "sys.path.append(os.getcwd() + '/../..')\n",
    "sys.path.append(os.getcwd() + '/../lib')\n",
    "sys.path.append(os.getcwd() + '/../../lib')\n",
    "\n",
    "from vedo import *\n",
    "Plotter(backend=\"k3d\")\n",
    "\n",
    "from lib.mesh_util import load_triangular_mesh, present_mesh\n",
    "from lib.laplacian_operations import *\n",
    "from lib.laplacian_beltrami import LaplaceBeltramiWeighting\n",
    "from vedo import *\n",
    "from trimesh import Trimesh\n",
    "import numpy as np\n",
    "from scipy import sparse\n",
    "\n",
    "print('Demo Ready.')"
   ]
  },
  {
   "cell_type": "markdown",
   "metadata": {},
   "source": [
    "## Available Meshes"
   ]
  },
  {
   "cell_type": "code",
   "execution_count": 2,
   "metadata": {},
   "outputs": [],
   "source": [
    "root_dir = f\"{os.getcwd()}/../..\"\n",
    "OLAF = f\"{root_dir}/models/olafdidofranza/File/OBj/Studio Pose OLAF.obj\"\n",
    "BATMAN = f\"{root_dir}/models/batman/batman.obj\"\n",
    "TEAPOT = f\"{root_dir}/models/teapot/teapot.obj\"\n",
    "DEER = f\"{root_dir}/models/lowpolydeer/deer.obj\"\n",
    "HUMAN = f\"{root_dir}/models/human/sculpt.obj\"\n",
    "OGRE = f\"{root_dir}/models/ogre/OgreOBJ.obj\"\n",
    "GOOFY_GORGON = f\"{root_dir}/models/gorgon/17902_Goofy_Gorgon_V1.obj\"\n",
    "LIBRARIAN = f\"{root_dir}/models/librarian/Librarian.obj\"\n",
    "\n",
    "\n",
    "mesh_path = LIBRARIAN"
   ]
  },
  {
   "cell_type": "markdown",
   "metadata": {},
   "source": [
    "## Default Mesh"
   ]
  },
  {
   "cell_type": "code",
   "execution_count": 3,
   "metadata": {},
   "outputs": [
    {
     "data": {
      "application/vnd.jupyter.widget-view+json": {
       "model_id": "c97d89ccfd484bc5adcb955d0c6ac976",
       "version_major": 2,
       "version_minor": 0
      },
      "text/plain": [
       "Plot(antialias=3, axes=['x', 'y', 'z'], axes_helper=1.0, background_color=16777215, camera=[3.811880448555929,…"
      ]
     },
     "metadata": {},
     "output_type": "display_data"
    }
   ],
   "source": [
    "Plotter(backend=\"k3d\")\n",
    "mesh = load_triangular_mesh(mesh_path, keep_only_largest_component=False)\n",
    "show(mesh, viewup=\"y\")"
   ]
  },
  {
   "cell_type": "markdown",
   "metadata": {},
   "source": [
    "## Mean Curvature Field"
   ]
  },
  {
   "cell_type": "markdown",
   "metadata": {},
   "source": [
    "### Mean Curvature with \"umbrella\" weighting"
   ]
  },
  {
   "cell_type": "markdown",
   "metadata": {},
   "source": [
    "Umbrella weighting does not consider the geometry of the mesh. <br>\n",
    "Therefore the mean curvature field blends between both detailed and flat areas along the mesh. <br>\n",
    "In addition, areas of small features with high curvature are not marked as clearly as areas with wide-faced features."
   ]
  },
  {
   "cell_type": "code",
   "execution_count": 4,
   "metadata": {
    "scrolled": false
   },
   "outputs": [
    {
     "data": {
      "application/vnd.jupyter.widget-view+json": {
       "model_id": "ecf77bb9057d47a5a62a253d990b9811",
       "version_major": 2,
       "version_minor": 0
      },
      "text/plain": [
       "Plot(antialias=3, axes=['x', 'y', 'z'], axes_helper=1.0, background_color=16777215, camera=[3.811880448555929,…"
      ]
     },
     "metadata": {},
     "output_type": "display_data"
    }
   ],
   "source": [
    "Plotter(backend=\"k3d\")\n",
    "\n",
    "mesh = load_triangular_mesh(mesh_path, keep_only_largest_component=False)\n",
    "mean_curvature_field = mean_curvature(mesh, weighting_scheme=LaplaceBeltramiWeighting.UMBRELLA)\n",
    "\n",
    "mesh_vtk = trimesh2vedo(mesh)\n",
    "mesh_vtk.cmap(on='points', input_array=mean_curvature_field, cname=\"afmhot\")\n",
    "show(mesh_vtk, viewup=\"y\")"
   ]
  },
  {
   "cell_type": "markdown",
   "metadata": {},
   "source": [
    "### Mean Curvature with \"cotangent\" weighting (no area normalization)"
   ]
  },
  {
   "cell_type": "markdown",
   "metadata": {},
   "source": [
    "Cotangent weighting considers the aspect ratio of the faces surrounding each vertex. <br>\n",
    "In this scenario the geometry affects the mean curvature, notable by the high curvature along the arms and legs. <br>\n",
    "Since the vertex cell area is not considered, once again \n",
    "areas of small features with high curvature are not marked as clearly as areas with wide-faced features."
   ]
  },
  {
   "cell_type": "code",
   "execution_count": 5,
   "metadata": {
    "scrolled": false
   },
   "outputs": [
    {
     "data": {
      "application/vnd.jupyter.widget-view+json": {
       "model_id": "960c2f1bca934dba900e95b2d14b74dd",
       "version_major": 2,
       "version_minor": 0
      },
      "text/plain": [
       "Plot(antialias=3, axes=['x', 'y', 'z'], axes_helper=1.0, background_color=16777215, camera=[3.811880448555929,…"
      ]
     },
     "metadata": {},
     "output_type": "display_data"
    }
   ],
   "source": [
    "Plotter(backend=\"k3d\")\n",
    "\n",
    "mesh = load_triangular_mesh(mesh_path, keep_only_largest_component=False)\n",
    "mean_curvature_field = mean_curvature(mesh, weighting_scheme=LaplaceBeltramiWeighting.COTANGENT_NO_AREA)\n",
    "\n",
    "mesh_vtk = trimesh2vedo(mesh)\n",
    "mesh_vtk.cmap(on='points', input_array=mean_curvature_field, cname=\"afmhot\")\n",
    "show(mesh_vtk, viewup=\"y\")"
   ]
  },
  {
   "cell_type": "markdown",
   "metadata": {},
   "source": [
    "### Mean Curvature with \"cotangent\" weighting (voronoi cell area normalization)"
   ]
  },
  {
   "cell_type": "markdown",
   "metadata": {},
   "source": [
    "For this weighting scheme, the vertex voronoi cell is considered as normalization to Laplace Beltrami (per row). <br>\n",
    "The effect is noticeable along the small features of the mesh, which now present high curvature relatively to the larger areas."
   ]
  },
  {
   "cell_type": "code",
   "execution_count": 6,
   "metadata": {},
   "outputs": [
    {
     "data": {
      "application/vnd.jupyter.widget-view+json": {
       "model_id": "25a3624f7a834b809dc53fa3d751c990",
       "version_major": 2,
       "version_minor": 0
      },
      "text/plain": [
       "Plot(antialias=3, axes=['x', 'y', 'z'], axes_helper=1.0, background_color=16777215, camera=[-22.84985466208753…"
      ]
     },
     "metadata": {},
     "output_type": "display_data"
    }
   ],
   "source": [
    "import k3d\n",
    "Plotter(backend=\"k3d\")\n",
    "\n",
    "mesh = load_triangular_mesh(mesh_path, keep_only_largest_component=False)\n",
    "mean_curvature_field = mean_curvature(mesh, weighting_scheme=LaplaceBeltramiWeighting.COTANGENT_VORONOI_CELL)\n",
    "\n",
    "mesh_vtk = trimesh2vedo(mesh)\n",
    "mesh_vtk.cmap(on='points', input_array=mean_curvature_field, cname=\"afmhot\")\n",
    "plot = show(mesh_vtk)\n",
    "plot.camera = [-22.849854662087537, 217.88816798624157, 58.02300214725446, 8.01256306453122, 226.97100295526783, 8.730622986643555, -0.140825393753057, 0.98379075178403, 0.11101335585643421]\n",
    "plot"
   ]
  },
  {
   "cell_type": "markdown",
   "metadata": {},
   "source": [
    "### Mean Curvature with \"cotangent\" weighting (one third of vertex cell area approximation)"
   ]
  },
  {
   "cell_type": "markdown",
   "metadata": {},
   "source": [
    "This weighting scheme is an approximation of the voronoi cell above, and presents similar traits."
   ]
  },
  {
   "cell_type": "code",
   "execution_count": 7,
   "metadata": {},
   "outputs": [
    {
     "data": {
      "application/vnd.jupyter.widget-view+json": {
       "model_id": "4143583e04aa41f989818ac7189a488d",
       "version_major": 2,
       "version_minor": 0
      },
      "text/plain": [
       "Plot(antialias=3, axes=['x', 'y', 'z'], axes_helper=1.0, background_color=16777215, camera=[-22.84985466208753…"
      ]
     },
     "metadata": {},
     "output_type": "display_data"
    }
   ],
   "source": [
    "Plotter(backend=\"k3d\")\n",
    "\n",
    "mesh = load_triangular_mesh(mesh_path, keep_only_largest_component=False)\n",
    "mean_curvature_field = mean_curvature(mesh, weighting_scheme=LaplaceBeltramiWeighting.COTANGENT_ONE_THIRD_TRIANGLE)\n",
    "\n",
    "mesh_vtk = trimesh2vedo(mesh)\n",
    "mesh_vtk.cmap(on='points', input_array=mean_curvature_field, cname=\"afmhot\")\n",
    "plot = show(mesh_vtk)\n",
    "plot.camera = [-22.849854662087537, 217.88816798624157, 58.02300214725446, 8.01256306453122, 226.97100295526783, 8.730622986643555, -0.140825393753057, 0.98379075178403, 0.11101335585643421]\n",
    "plot"
   ]
  }
 ],
 "metadata": {
  "kernelspec": {
   "display_name": "Python 3",
   "language": "python",
   "name": "python3"
  },
  "language_info": {
   "codemirror_mode": {
    "name": "ipython",
    "version": 3
   },
   "file_extension": ".py",
   "mimetype": "text/x-python",
   "name": "python",
   "nbconvert_exporter": "python",
   "pygments_lexer": "ipython3",
   "version": "3.7.5"
  }
 },
 "nbformat": 4,
 "nbformat_minor": 2
}