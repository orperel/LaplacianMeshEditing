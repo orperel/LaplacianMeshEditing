{
 "cells": [
  {
   "cell_type": "markdown",
   "metadata": {},
   "source": [
    "# Mean Curvature Demonstration"
   ]
  },
  {
   "cell_type": "markdown",
   "metadata": {},
   "source": [
    "## Boilerplate Code"
   ]
  },
  {
   "cell_type": "code",
   "execution_count": 8,
   "metadata": {},
   "outputs": [
    {
     "name": "stdout",
     "output_type": "stream",
     "text": [
      "Demo Ready.\n"
     ]
    }
   ],
   "source": [
    "import os, sys\n",
    "sys.path.append(os.getcwd())\n",
    "sys.path.append(os.getcwd() + '/..')\n",
    "sys.path.append(os.getcwd() + '/../..')\n",
    "sys.path.append(os.getcwd() + '/../lib')\n",
    "sys.path.append(os.getcwd() + '/../../lib')\n",
    "\n",
    "from vtkplotter import *\n",
    "embedWindow(backend=\"k3d\")\n",
    "\n",
    "from lib.mesh_util import load_triangular_mesh, present_mesh\n",
    "from lib.laplacian_operations import *\n",
    "from lib.laplacian_beltrami import LaplaceBeltramiWeighting\n",
    "from vtkplotter import *\n",
    "from trimesh import Trimesh\n",
    "import numpy as np\n",
    "from scipy import sparse\n",
    "\n",
    "print('Demo Ready.')"
   ]
  },
  {
   "cell_type": "markdown",
   "metadata": {},
   "source": [
    "## Available Meshes"
   ]
  },
  {
   "cell_type": "code",
   "execution_count": 9,
   "metadata": {},
   "outputs": [],
   "source": [
    "root_dir = f\"{os.getcwd()}/../..\"\n",
    "OLAF = f\"{root_dir}/models/olafdidofranza/File/OBj/Studio Pose OLAF.obj\"\n",
    "BATMAN = f\"{root_dir}/models/batman/batman.obj\"\n",
    "TEAPOT = f\"{root_dir}/models/teapot/teapot.obj\"\n",
    "DEER = f\"{root_dir}/models/lowpolydeer/deer.obj\"\n",
    "HUMAN = f\"{root_dir}/models/human/sculpt.obj\"\n",
    "OGRE = f\"{root_dir}/models/ogre/OgreOBJ.obj\"\n",
    "GOOFY_GORGON = f\"{root_dir}/models/gorgon/17902_Goofy_Gorgon_V1.obj\"\n",
    "LIBRARIAN = f\"{root_dir}/models/librarian/Librarian.obj\"\n",
    "\n",
    "\n",
    "mesh_path = LIBRARIAN"
   ]
  },
  {
   "cell_type": "markdown",
   "metadata": {},
   "source": [
    "## Default Mesh"
   ]
  },
  {
   "cell_type": "code",
   "execution_count": 10,
   "metadata": {},
   "outputs": [
    {
     "data": {
      "application/vnd.jupyter.widget-view+json": {
       "model_id": "4d93738d91964a709f51ad26cd1c7a27",
       "version_major": 2,
       "version_minor": 0
      },
      "text/plain": [
       "Plot(antialias=3, axes=['x', 'y', 'z'], axes_helper=1.0, background_color=16777215, camera=[3.811880448555929,…"
      ]
     },
     "metadata": {},
     "output_type": "display_data"
    }
   ],
   "source": [
    "embedWindow(backend=\"k3d\")\n",
    "mesh = load_triangular_mesh(mesh_path, keep_only_largest_component=False)\n",
    "show(mesh, viewup=\"y\")"
   ]
  },
  {
   "cell_type": "markdown",
   "metadata": {},
   "source": [
    "## Mean Curvature Field"
   ]
  },
  {
   "cell_type": "markdown",
   "metadata": {},
   "source": [
    "### Mean Curvature with \"umbrella\" weighting"
   ]
  },
  {
   "cell_type": "markdown",
   "metadata": {},
   "source": [
    "Umbrella weighting does not consider the geometry of the mesh. <br>\n",
    "Therefore the mean curvature field blends between both detailed and flat areas along the mesh. <br>\n",
    "In addition, areas of small features with high curvature are not marked as clearly as areas with wide-faced features."
   ]
  },
  {
   "cell_type": "code",
   "execution_count": 11,
   "metadata": {},
   "outputs": [
    {
     "data": {
      "application/vnd.jupyter.widget-view+json": {
       "model_id": "7d2f193b3bc64081800393e1cddaaeb1",
       "version_major": 2,
       "version_minor": 0
      },
      "text/plain": [
       "Plot(antialias=3, axes=['x', 'y', 'z'], axes_helper=1.0, background_color=16777215, camera=[3.811880448555929,…"
      ]
     },
     "metadata": {},
     "output_type": "display_data"
    }
   ],
   "source": [
    "embedWindow(backend=\"k3d\")\n",
    "\n",
    "mesh = load_triangular_mesh(mesh_path, keep_only_largest_component=False)\n",
    "mean_curvature_field = mean_curvature(mesh, weighting_scheme=LaplaceBeltramiWeighting.UMBRELLA)\n",
    "\n",
    "mesh_vtk = trimesh2vtk(mesh)\n",
    "mesh_vtk.pointColors(mean_curvature_field, cmap=\"afmhot\")\n",
    "show(mesh_vtk, viewup=\"y\")"
   ]
  },
  {
   "cell_type": "markdown",
   "metadata": {},
   "source": [
    "### Mean Curvature with \"cotangent\" weighting (no area normalization)"
   ]
  },
  {
   "cell_type": "markdown",
   "metadata": {},
   "source": [
    "Cotangent weighting considers the aspect ratio of the faces surrounding the each vertex. <br>\n",
    "In this scenario the geometry affects the mean curvature, notable by the high curvature along the arms and legs. <br>\n",
    "Since the vertex cell area is not considered, once again \n",
    "areas of small features with high curvature are not marked as clearly as areas with wide-faced features."
   ]
  },
  {
   "cell_type": "code",
   "execution_count": 15,
   "metadata": {
    "scrolled": true
   },
   "outputs": [
    {
     "data": {
      "application/vnd.jupyter.widget-view+json": {
       "model_id": "90b41af8abc44708ac30efbdacf740c3",
       "version_major": 2,
       "version_minor": 0
      },
      "text/plain": [
       "Plot(antialias=3, axes=['x', 'y', 'z'], axes_helper=1.0, background_color=16777215, camera=[3.811880448555929,…"
      ]
     },
     "metadata": {},
     "output_type": "display_data"
    }
   ],
   "source": [
    "embedWindow(backend=\"k3d\")\n",
    "\n",
    "mesh = load_triangular_mesh(mesh_path, keep_only_largest_component=False)\n",
    "mean_curvature_field = mean_curvature(mesh, weighting_scheme=LaplaceBeltramiWeighting.COTANGENT_NO_AREA)\n",
    "\n",
    "mesh_vtk = trimesh2vtk(mesh)\n",
    "mesh_vtk.pointColors(mean_curvature_field, cmap=\"afmhot\")\n",
    "show(mesh_vtk, viewup=\"y\")"
   ]
  },
  {
   "cell_type": "markdown",
   "metadata": {},
   "source": [
    "### Mean Curvature with \"cotangent\" weighting (voronoi cell area normalization)"
   ]
  },
  {
   "cell_type": "markdown",
   "metadata": {},
   "source": [
    "For this weighting scheme, the vertex voronoi cell is considered as normalization to Laplace Beltrami (per row). <br>\n",
    "The effect is noticeable along the small features of the mesh, which now present high curvature relatively to the larger areas."
   ]
  },
  {
   "cell_type": "code",
   "execution_count": 13,
   "metadata": {},
   "outputs": [
    {
     "data": {
      "application/vnd.jupyter.widget-view+json": {
       "model_id": "5f8322fbbbde4639a1552c7762e40d8f",
       "version_major": 2,
       "version_minor": 0
      },
      "text/plain": [
       "Plot(antialias=3, axes=['x', 'y', 'z'], axes_helper=1.0, background_color=16777215, camera=[-22.84985466208753…"
      ]
     },
     "metadata": {},
     "output_type": "display_data"
    }
   ],
   "source": [
    "import k3d\n",
    "embedWindow(backend=\"k3d\")\n",
    "\n",
    "mesh = load_triangular_mesh(mesh_path, keep_only_largest_component=False)\n",
    "mean_curvature_field = mean_curvature(mesh, weighting_scheme=LaplaceBeltramiWeighting.COTANGENT_VORONOI_CELL)\n",
    "\n",
    "mesh_vtk = trimesh2vtk(mesh)\n",
    "mesh_vtk.pointColors(mean_curvature_field, cmap=\"afmhot\")\n",
    "plot = show(mesh_vtk)\n",
    "plot.camera = [-22.849854662087537, 217.88816798624157, 58.02300214725446, 8.01256306453122, 226.97100295526783, 8.730622986643555, -0.140825393753057, 0.98379075178403, 0.11101335585643421]\n",
    "plot"
   ]
  },
  {
   "cell_type": "markdown",
   "metadata": {},
   "source": [
    "### Mean Curvature with \"cotangent\" weighting (one third of vertex cell area approximation)"
   ]
  },
  {
   "cell_type": "markdown",
   "metadata": {},
   "source": [
    "This weighting scheme is an approximation of the voronoi cell above, and presents similar traits."
   ]
  },
  {
   "cell_type": "code",
   "execution_count": 14,
   "metadata": {},
   "outputs": [
    {
     "data": {
      "application/vnd.jupyter.widget-view+json": {
       "model_id": "56710f3240174ef095b339d38a9ef9a4",
       "version_major": 2,
       "version_minor": 0
      },
      "text/plain": [
       "Plot(antialias=3, axes=['x', 'y', 'z'], axes_helper=1.0, background_color=16777215, camera=[-22.84985466208753…"
      ]
     },
     "metadata": {},
     "output_type": "display_data"
    }
   ],
   "source": [
    "embedWindow(backend=\"k3d\")\n",
    "\n",
    "mesh = load_triangular_mesh(mesh_path, keep_only_largest_component=False)\n",
    "mean_curvature_field = mean_curvature(mesh, weighting_scheme=LaplaceBeltramiWeighting.COTANGENT_ONE_THIRD_TRIANGLE)\n",
    "\n",
    "mesh_vtk = trimesh2vtk(mesh)\n",
    "mesh_vtk.pointColors(mean_curvature_field, cmap=\"afmhot\")\n",
    "plot = show(mesh_vtk)\n",
    "plot.camera = [-22.849854662087537, 217.88816798624157, 58.02300214725446, 8.01256306453122, 226.97100295526783, 8.730622986643555, -0.140825393753057, 0.98379075178403, 0.11101335585643421]\n",
    "plot"
   ]
  }
 ],
 "metadata": {
  "kernelspec": {
   "display_name": "Python 3",
   "language": "python",
   "name": "python3"
  }
 },
 "nbformat": 4,
 "nbformat_minor": 2
}
